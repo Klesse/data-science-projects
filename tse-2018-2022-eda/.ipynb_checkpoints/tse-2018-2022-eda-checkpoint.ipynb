{
 "cells": [
  {
   "cell_type": "markdown",
   "id": "a0f74eb2-39be-47aa-9adb-532cfc368752",
   "metadata": {},
   "source": [
    "# TSE - Candidates from 2018 and 2022 in brazilian politics"
   ]
  },
  {
   "cell_type": "markdown",
   "id": "143a206b-faa8-4690-ab04-3ed098f4eb31",
   "metadata": {},
   "source": [
    "## Libraries"
   ]
  },
  {
   "cell_type": "code",
   "execution_count": 1,
   "id": "45efebe1-6f55-4413-88f7-503885cde082",
   "metadata": {},
   "outputs": [],
   "source": [
    "import numpy as np\n",
    "import pandas as pd\n",
    "import matplotlib.pyplot as plt"
   ]
  },
  {
   "cell_type": "markdown",
   "id": "49b2d2fb-1069-4808-8c6a-b7a5556d1bbb",
   "metadata": {},
   "source": [
    "## Loading the dataset"
   ]
  },
  {
   "cell_type": "code",
   "execution_count": 3,
   "id": "196e878a-bbb4-483a-bf18-4a1e72149cb1",
   "metadata": {},
   "outputs": [],
   "source": [
    "tse_data = pd.read_csv('br_tse_eleicoes_2018_2022.csv', low_memory=False)"
   ]
  },
  {
   "cell_type": "code",
   "execution_count": 4,
   "id": "f6a0946c-f47e-4341-9dcd-102d8a778b0d",
   "metadata": {},
   "outputs": [
    {
     "data": {
      "text/plain": [
       "ano                       int64\n",
       "tipo_eleicao             object\n",
       "sigla_uf                 object\n",
       "id_municipio            float64\n",
       "id_municipio_tse        float64\n",
       "id_candidato_bd         float64\n",
       "cpf                      object\n",
       "titulo_eleitoral          int64\n",
       "sequencial                int64\n",
       "numero                    int64\n",
       "nome                     object\n",
       "nome_urna                object\n",
       "numero_partido            int64\n",
       "sigla_partido            object\n",
       "cargo                    object\n",
       "situacao                 object\n",
       "ocupacao                 object\n",
       "data_nascimento          object\n",
       "idade                   float64\n",
       "genero                   object\n",
       "instrucao                object\n",
       "estado_civil             object\n",
       "nacionalidade            object\n",
       "sigla_uf_nascimento      object\n",
       "municipio_nascimento     object\n",
       "email                    object\n",
       "raca                     object\n",
       "dtype: object"
      ]
     },
     "execution_count": 4,
     "metadata": {},
     "output_type": "execute_result"
    }
   ],
   "source": [
    "tse_data.dtypes"
   ]
  },
  {
   "cell_type": "code",
   "execution_count": 5,
   "id": "5b178c7d-524d-4fbe-b1de-82dfcb9d2204",
   "metadata": {},
   "outputs": [
    {
     "data": {
      "text/plain": [
       "Index(['ano', 'tipo_eleicao', 'sigla_uf', 'id_municipio', 'id_municipio_tse',\n",
       "       'id_candidato_bd', 'cpf', 'titulo_eleitoral', 'sequencial', 'numero',\n",
       "       'nome', 'nome_urna', 'numero_partido', 'sigla_partido', 'cargo',\n",
       "       'situacao', 'ocupacao', 'data_nascimento', 'idade', 'genero',\n",
       "       'instrucao', 'estado_civil', 'nacionalidade', 'sigla_uf_nascimento',\n",
       "       'municipio_nascimento', 'email', 'raca'],\n",
       "      dtype='object')"
      ]
     },
     "execution_count": 5,
     "metadata": {},
     "output_type": "execute_result"
    }
   ],
   "source": [
    "tse_data.columns"
   ]
  },
  {
   "cell_type": "markdown",
   "id": "66d4da30-5086-4bfb-8e54-5b2534017484",
   "metadata": {},
   "source": [
    "## Change the column names (pt-br -> en-us)"
   ]
  },
  {
   "cell_type": "code",
   "execution_count": 49,
   "id": "30f4b28f-cf8d-4699-937c-579b3e559f80",
   "metadata": {},
   "outputs": [],
   "source": [
    "tse_data = tse_data.rename(columns={'ano':'year',\n",
    "                        'tipo_eleicao':'election_type',\n",
    "                        'sigla_uf':'state',\n",
    "                        'id_municipio':'id_city',\n",
    "                        'id_municipio_tse':'id_city_tse',\n",
    "                        'id_candidato_bd':'id_candidate_bd',\n",
    "                        'titulo_eleitoral':'voter_registration',\n",
    "                        'sequencial':'sequential',\n",
    "                        'numero':'number',\n",
    "                        'nome':'name',\n",
    "                        'nome_urna':'ballot_name',\n",
    "                        'numero_partido':'party_number',\n",
    "                        'sigla_partido':'party_acronym',\n",
    "                        'cargo':'office',\n",
    "                        'situacao':'situation',\n",
    "                        'ocupacao':'occupation',\n",
    "                        'data_nascimento':'birth_date',\n",
    "                        'idade':'age',\n",
    "                        'genero':'gender',\n",
    "                        'instrucao':'education',\n",
    "                        'estado_civil':'marital_status',\n",
    "                        'nacionalidade':'nationality',\n",
    "                        'sigla_uf_nascimento':'birth_state_acronym',\n",
    "                        'municipio_nascimento':'birth_city',\n",
    "                        'raca':'race'})\n"
   ]
  },
  {
   "cell_type": "markdown",
   "id": "8ea3234c-7317-4700-9301-7fdcd3f0e547",
   "metadata": {},
   "source": [
    "## Questions about the Dataset"
   ]
  },
  {
   "cell_type": "markdown",
   "id": "872c4377-57aa-4f3b-80d7-aca8a2d6bb6f",
   "metadata": {},
   "source": [
    "1. Number of parties per state\n",
    "2. Average age per party\n",
    "3. Five parties with more candidates\n",
    "4. Occupation more present in each party\n",
    "5. Party with more white people\n",
    "6. Five parties with more \"deputados federais\" from São Paulo\n",
    "7. Average age per marital status\n",
    "8. Party with more women in Brazil"
   ]
  },
  {
   "cell_type": "code",
   "execution_count": 63,
   "id": "052a7d62-ee64-4b82-ad2d-b5ed4487056c",
   "metadata": {},
   "outputs": [
    {
     "data": {
      "text/plain": [
       "state\n",
       "AC    35\n",
       "AL    37\n",
       "AM    36\n",
       "AP    36\n",
       "BA    38\n",
       "CE    38\n",
       "DF    38\n",
       "ES    37\n",
       "GO    36\n",
       "MA    37\n",
       "MG    38\n",
       "MS    35\n",
       "MT    35\n",
       "PA    38\n",
       "PB    37\n",
       "PE    38\n",
       "PI    38\n",
       "PR    37\n",
       "RJ    38\n",
       "RN    37\n",
       "RO    34\n",
       "RR    35\n",
       "RS    38\n",
       "SC    37\n",
       "SE    37\n",
       "SP    38\n",
       "TO    34\n",
       "Name: party_acronym, dtype: int64"
      ]
     },
     "execution_count": 63,
     "metadata": {},
     "output_type": "execute_result"
    }
   ],
   "source": [
    "## 1. Number of parties per state\n",
    "\n",
    "tse_data.groupby('state')['party_acronym'].apply(lambda x: x.value_counts().shape[0])"
   ]
  },
  {
   "cell_type": "code",
   "execution_count": 14,
   "id": "91505fcd-ceba-4613-af36-c8f1d5712992",
   "metadata": {},
   "outputs": [
    {
     "data": {
      "text/plain": [
       "party_acronym\n",
       "AGIR             48.905561\n",
       "AVANTE           45.475749\n",
       "CIDADANIA        45.779419\n",
       "DC               46.844702\n",
       "DEM              46.267040\n",
       "MDB              46.990251\n",
       "NOVO             44.648613\n",
       "PATRIOTA         45.935545\n",
       "PC do B          45.173917\n",
       "PCB              42.836576\n",
       "PCO              44.424242\n",
       "PDT              46.201688\n",
       "PHS              47.170191\n",
       "PL               45.828519\n",
       "PMB              47.175061\n",
       "PMN              46.765380\n",
       "PODE             45.611245\n",
       "PP               46.088904\n",
       "PPL              48.117057\n",
       "PROS             45.405947\n",
       "PRP              48.279214\n",
       "PRTB             46.454408\n",
       "PSB              45.881629\n",
       "PSC              45.552717\n",
       "PSD              45.735165\n",
       "PSDB             46.950754\n",
       "PSL              45.047843\n",
       "PSOL             44.221874\n",
       "PSTU             48.127586\n",
       "PT               46.810104\n",
       "PTB              46.771712\n",
       "PTC              46.117502\n",
       "PV               46.497960\n",
       "REDE             45.048718\n",
       "REPUBLICANOS     45.401987\n",
       "SOLIDARIEDADE    45.409172\n",
       "UNIÃO            48.431655\n",
       "UP               36.690000\n",
       "Name: age, dtype: float64"
      ]
     },
     "execution_count": 14,
     "metadata": {},
     "output_type": "execute_result"
    }
   ],
   "source": [
    "## 2. Average age per party\n",
    "\n",
    "tse_data.groupby('party_acronym')['age'].mean()"
   ]
  },
  {
   "cell_type": "code",
   "execution_count": 18,
   "id": "4dfefe21-4078-43c9-97d7-33f5189e477a",
   "metadata": {},
   "outputs": [
    {
     "data": {
      "text/plain": [
       "party_acronym\n",
       "MDB     47594\n",
       "PSD     41574\n",
       "PP      40583\n",
       "PSDB    35069\n",
       "PT      34203\n",
       "Name: name, dtype: int64"
      ]
     },
     "execution_count": 18,
     "metadata": {},
     "output_type": "execute_result"
    }
   ],
   "source": [
    "## 3. Five parties with more candidates\n",
    "\n",
    "tse_data.groupby('party_acronym')['name'].count().sort_values(ascending=False).head(5)"
   ]
  },
  {
   "cell_type": "code",
   "execution_count": 42,
   "id": "03c6557b-307c-4ebf-a68f-46845501356d",
   "metadata": {},
   "outputs": [
    {
     "data": {
      "text/plain": [
       "party_acronym\n",
       "AGIR                                               empresario\n",
       "AVANTE                                             empresario\n",
       "CIDADANIA                                          empresario\n",
       "DC                                                 empresario\n",
       "DEM                                servidor publico municipal\n",
       "MDB                                                agricultor\n",
       "NOVO                                               empresario\n",
       "PATRIOTA                                           empresario\n",
       "PC do B                                            agricultor\n",
       "PCB              estudante bolsista estagiario e assemelhados\n",
       "PCO                                 professor de ensino medio\n",
       "PDT                                                agricultor\n",
       "PHS                                                empresario\n",
       "PL                                                 empresario\n",
       "PMB                                                empresario\n",
       "PMN                                                empresario\n",
       "PODE                                               empresario\n",
       "PP                                                 agricultor\n",
       "PPL                                                empresario\n",
       "PROS                                               empresario\n",
       "PRP                                                empresario\n",
       "PRTB                                               empresario\n",
       "PSB                                                agricultor\n",
       "PSC                                                empresario\n",
       "PSD                                servidor publico municipal\n",
       "PSDB                               servidor publico municipal\n",
       "PSL                                                empresario\n",
       "PSOL                                professor de ensino medio\n",
       "PSTU                          professor de ensino fundamental\n",
       "PT                                                 agricultor\n",
       "PTB                                                empresario\n",
       "PTC                                                empresario\n",
       "PV                                                 empresario\n",
       "REDE                                               empresario\n",
       "REPUBLICANOS                                       empresario\n",
       "SOLIDARIEDADE                                      empresario\n",
       "UNIÃO                                              empresario\n",
       "UP               estudante bolsista estagiario e assemelhados\n",
       "Name: occupation, dtype: object"
      ]
     },
     "execution_count": 42,
     "metadata": {},
     "output_type": "execute_result"
    }
   ],
   "source": [
    "## 4. Occupation more present in each party\n",
    "\n",
    "tse_data.groupby('party_acronym')['occupation'].apply(lambda x: x.value_counts(ascending=False).index[0] \n",
    "                                                      if str(x.value_counts(ascending=False).index[0]) != 'outros' \n",
    "                                                      else x.value_counts(ascending=False).index[1])\n",
    "\n",
    "## I prefered picking the occupations different of 'outros' (others, in english)"
   ]
  },
  {
   "cell_type": "code",
   "execution_count": 46,
   "id": "d351cf89-560d-4aa5-bc89-bdddbe2a20a0",
   "metadata": {},
   "outputs": [
    {
     "data": {
      "text/plain": [
       "party_acronym\n",
       "MDB    26075\n",
       "Name: name, dtype: int64"
      ]
     },
     "execution_count": 46,
     "metadata": {},
     "output_type": "execute_result"
    }
   ],
   "source": [
    "## 5. Party with more white people\n",
    "\n",
    "tse_data[tse_data['race'] == 'branca'].groupby('party_acronym')['name'].count().sort_values(ascending=False).head(1)"
   ]
  },
  {
   "cell_type": "code",
   "execution_count": 52,
   "id": "173a45d9-bf67-4b3b-9ee8-92a3f390e628",
   "metadata": {},
   "outputs": [
    {
     "data": {
      "text/plain": [
       "party_acronym\n",
       "PATRIOTA        888\n",
       "PSOL            846\n",
       "MDB             836\n",
       "REPUBLICANOS    790\n",
       "AVANTE          788\n",
       "Name: name, dtype: int64"
      ]
     },
     "execution_count": 52,
     "metadata": {},
     "output_type": "execute_result"
    }
   ],
   "source": [
    "## 6. Five parties with more \"deputados federais\" from São Paulo\n",
    "\n",
    "tse_data[tse_data['office'] == 'deputado federal'].groupby('party_acronym')['name'].count().sort_values(ascending=False).head()"
   ]
  },
  {
   "cell_type": "code",
   "execution_count": 53,
   "id": "e65cbe26-8d29-4252-b9d5-be0b2c5a9f2c",
   "metadata": {},
   "outputs": [
    {
     "data": {
      "text/plain": [
       "marital_status\n",
       "casado(a)        48.590926\n",
       "divorciado(a)    51.001848\n",
       "solteiro(a)      40.566264\n",
       "viuvo(a)         58.513366\n",
       "Name: age, dtype: float64"
      ]
     },
     "execution_count": 53,
     "metadata": {},
     "output_type": "execute_result"
    }
   ],
   "source": [
    "## 7. Average age per marital status\n",
    "\n",
    "tse_data.groupby('marital_status')['age'].mean()"
   ]
  },
  {
   "cell_type": "code",
   "execution_count": 62,
   "id": "ffe3f198-de6b-47bf-bc53-1efa3f6835f6",
   "metadata": {},
   "outputs": [
    {
     "data": {
      "text/plain": [
       "'MDB'"
      ]
     },
     "execution_count": 62,
     "metadata": {},
     "output_type": "execute_result"
    }
   ],
   "source": [
    "## 8. Party with more women in Brazil\n",
    "\n",
    "tse_data[tse_data['gender']=='feminino'].groupby('party_acronym')['name'].count().sort_values(ascending=False).index[0]"
   ]
  }
 ],
 "metadata": {
  "kernelspec": {
   "display_name": "Python 3 (ipykernel)",
   "language": "python",
   "name": "python3"
  },
  "language_info": {
   "codemirror_mode": {
    "name": "ipython",
    "version": 3
   },
   "file_extension": ".py",
   "mimetype": "text/x-python",
   "name": "python",
   "nbconvert_exporter": "python",
   "pygments_lexer": "ipython3",
   "version": "3.10.12"
  }
 },
 "nbformat": 4,
 "nbformat_minor": 5
}
